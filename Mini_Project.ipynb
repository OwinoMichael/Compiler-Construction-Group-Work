{
  "nbformat": 4,
  "nbformat_minor": 0,
  "metadata": {
    "colab": {
      "provenance": [],
      "authorship_tag": "ABX9TyMZRYqDjdww+dzrIFRr4kN6",
      "include_colab_link": true
    },
    "kernelspec": {
      "name": "python3",
      "display_name": "Python 3"
    },
    "language_info": {
      "name": "python"
    }
  },
  "cells": [
    {
      "cell_type": "markdown",
      "metadata": {
        "id": "view-in-github",
        "colab_type": "text"
      },
      "source": [
        "<a href=\"https://colab.research.google.com/github/OwinoMichael/Compiler-Construction-Group-Work/blob/main/Mini_Project.ipynb\" target=\"_parent\"><img src=\"https://colab.research.google.com/assets/colab-badge.svg\" alt=\"Open In Colab\"/></a>"
      ]
    },
    {
      "cell_type": "code",
      "execution_count": null,
      "metadata": {
        "id": "mxoiZjTo3Aa0"
      },
      "outputs": [],
      "source": []
    },
    {
      "cell_type": "markdown",
      "source": [
        "MINI-PROJECT\n",
        "\n",
        "COMPILER CONSTRUCTION GROUP MEMBERS( ICS 4C)\n",
        "\n",
        "106731-Raphael Oluoch\n",
        "\n",
        "100701-Kelong Zacharia\n",
        "\n",
        "120921-Owino Michael\n",
        "\n",
        "122287-Oduor Michael Owen"
      ],
      "metadata": {
        "id": "DJAWfkNK3ERb"
      }
    },
    {
      "cell_type": "markdown",
      "source": [
        "A string tokenizer class is type of class that allows an application to break a string into tokens. A token is a maximum sequence of consecutive characters of strings that are not delimiters. An example of a token of the string is: \"I am a student of Compiler Construction.\" \n",
        "\n",
        "The tokens are: \"I\", \"am\", \"a\", \"student\", \"of\", \"Compiler\", \"Construction\".\n",
        "\n",
        "A StringTokenizer has got both methods i.e String nextToken()  and constructors i.e String str among others."
      ],
      "metadata": {
        "id": "QZ5VXvv63QRf"
      }
    },
    {
      "cell_type": "markdown",
      "source": [
        "Below is diagramatical represenation of how the stringTokenizer works:"
      ],
      "metadata": {
        "id": "Y8NxaEXS9WcM"
      }
    },
    {
      "cell_type": "markdown",
      "source": [
        "![image.png](data:image/png;base64,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)"
      ],
      "metadata": {
        "id": "Qr7Cf4H679ar"
      }
    },
    {
      "cell_type": "markdown",
      "source": [
        "Below is a sample code. It is C source code for string tokenizer class. The class is used to split strings into tokens."
      ],
      "metadata": {
        "id": "JI409F0p8HVh"
      }
    },
    {
      "cell_type": "markdown",
      "source": [
        "main.cpp"
      ],
      "metadata": {
        "id": "jGNXzTJn9D7I"
      }
    },
    {
      "cell_type": "code",
      "source": [
        "#include <iostream>\n",
        "using std::cout;\n",
        "using std::endl;\n",
        "using std::cin;\n",
        "using std::auto_ptr;\n",
        "#include \"StringTokenizer.hpp\"\n",
        "\n",
        "int main(int argc, char* argv[]) {\n",
        "short int x;\n",
        "string strTest = \"This is a test string for the tokenizer  \";\n",
        "auto_ptr<StringTokenizer> tokTokenizer(new StringTokenizer(strTest, \" \", false));\n",
        "\n",
        "\t// shows the tokenizer at work\n",
        "\tcout << \"Number of Tokens:\\t\" << tokTokenizer->CountTokens() << endl;\n",
        "\tcout << \"Peeked this Token:\\t\" << tokTokenizer->PeekNextToken() << endl;\n",
        "\tcout << \"All Elements:\" << endl;\n",
        "\tfor (x = 0; tokTokenizer->HasMoreTokens(); x++) {\n",
        "\t\tcout << \"\\tToken #\" << x << \":  \" << tokTokenizer->NextToken() << endl;\n",
        "\t}\n",
        "\n",
        "\t// switching the string now\n",
        "\tcout << \"\\nSwitching string...in progress...\" << endl;\n",
        "\tstrTest=\" Here's one with space in front and back \";\n",
        "\ttokTokenizer->SwitchString(strTest, \" \", false);\n",
        "\n",
        "\t// exporting the tokenizer's tokens\n",
        "\tcout << \"Exporting tokens...in progress...\" << endl;\n",
        "\tstd::vector<string> tokLocalExport;\n",
        "\ttokLocalExport = tokTokenizer->GetVector();\n",
        "\n",
        "\t// printing what was exported to show it was successful\n",
        "\tcout << \"\\nPrinting what was exported...\" << endl;\n",
        "\tcout << \"All Elements:\" << endl;\n",
        "\tfor (x = 0; x < tokLocalExport.size(); x++) {\n",
        "\t\tcout << \"\\tToken #\" << x << \":  \" << tokLocalExport[x] << endl;\n",
        "\t}\n",
        "\n",
        "\t// note of the user\n",
        "\tcout << \"\\n\\nNOTE:\\nIf you wanted to get the delimiter(space in this case) all you would have to do is set the third argument to true instead of false. Enjoy!\" << endl;\n",
        "\n",
        "\treturn EXIT_SUCCESS;\n",
        "}"
      ],
      "metadata": {
        "id": "6zoBFH5Q8-kD"
      },
      "execution_count": null,
      "outputs": []
    },
    {
      "cell_type": "code",
      "source": [],
      "metadata": {
        "id": "aPIcSQE69AoX"
      },
      "execution_count": null,
      "outputs": []
    },
    {
      "cell_type": "markdown",
      "source": [
        "StringTokenizer.cpp"
      ],
      "metadata": {
        "id": "115K7IN09Ihj"
      }
    },
    {
      "cell_type": "code",
      "source": [
        "#include <iostream>\n",
        "#include \"StringTokenizer.hpp\"\n",
        "\n",
        "StringTokenizer::StringTokenizer(string& strText) {\n",
        "\tSwitchString(strText);\n",
        "\tintSpot = 0;\n",
        "\n",
        "\tGenerateTokens();\n",
        "}\n",
        "\n",
        "StringTokenizer::StringTokenizer(string& strText, char* strDelim) {\n",
        "\tSwitchString(strText, strDelim);\n",
        "\tintSpot = 0;\n",
        "\n",
        "\tGenerateTokens();\n",
        "}\n",
        "\n",
        "StringTokenizer::StringTokenizer(string& strText, char* strDelim, bool blnDelimAsToken) {\n",
        "\tSwitchString(strText, strDelim, blnDelimAsToken);\n",
        "\tintSpot = 0;\n",
        "\n",
        "\tGenerateTokens();\n",
        "}\n",
        "\n",
        "const int StringTokenizer::CountTokens() const {\n",
        "\treturn vecTokens.size();\n",
        "}\n",
        "\n",
        "const bool StringTokenizer::HasMoreTokens() const {\n",
        "\tif (intSpot < CountTokens()) return true;\n",
        "\telse if (intSpot == CountTokens()) return false;\n",
        "}\n",
        "\n",
        "const string& StringTokenizer::PeekNextToken() const {\n",
        "\treturn vecTokens[intSpot+1];\n",
        "}\n",
        "\n",
        "const string& StringTokenizer::NextToken() {\n",
        "\tintSpot++;\n",
        "\treturn vecTokens[intSpot-1];\n",
        "}\n",
        "\n",
        "void StringTokenizer::SwitchString(string& strText, char* strDelim, bool blnDelimAsToken) {\n",
        "\tstrBuffer = strText;\n",
        "\tstrDelimiter = strDelim;\n",
        "\tblnIncludeDelim = blnDelimAsToken;\n",
        "\tintSpot = 0;\n",
        "\n",
        "\tGenerateTokens();\n",
        "}\n",
        "\n",
        "const std::vector<string>& StringTokenizer::GetVector() const {\n",
        "\treturn vecTokens;\n",
        "}\n",
        "\n",
        "void StringTokenizer::GenerateTokens() {\n",
        "std::string::size_type intPrevDelimPos = 0;\n",
        "std::string::size_type intNextDelimPos;\n",
        "string strBuffer2;\n",
        "\n",
        "\twhile(1) {\n",
        "\t\t// find the next delimiter\n",
        "\t\tintNextDelimPos = strBuffer.find(strDelimiter, intPrevDelimPos);\n",
        "\n",
        "\t\t// get the token\n",
        "\t\tif (intNextDelimPos != string::npos) {\n",
        "\t\t\tstrBuffer2 = strBuffer.substr(intPrevDelimPos, intNextDelimPos - intPrevDelimPos);\n",
        "\t\t} else if (intNextDelimPos == string::npos) {\n",
        "\t\t\t// last token\n",
        "\t\t\tstrBuffer2 = strBuffer.substr(intPrevDelimPos, (strBuffer.length() + 1) - intPrevDelimPos);\n",
        "\t\t}\n",
        "\n",
        "\t\t// add delimiter to vector if needed\n",
        "\t\tif (blnIncludeDelim == true) {\n",
        "\t\t\t/* if the current character is the delimiter/token take\n",
        "\t\t\t * no action because delimiter will be added on the\n",
        "\t\t\t * following loop anyway */\n",
        "\t\t\tif (strBuffer.substr(intPrevDelimPos, strDelimiter.length()) == strDelimiter) {\n",
        "\t\t\t\tintPrevDelimPos = intNextDelimPos + strDelimiter.length();\n",
        "\t\t\t\tcontinue;\n",
        "\t\t\t} else if (strBuffer.substr(0, strDelimiter.length()) != strDelimiter && intPrevDelimPos == 0) {\n",
        "\t\t\t\t/* don't add an uneeded delimiter\n",
        "\t\t\t\t * at the front of the string */\n",
        "\t\t\t} else if (strBuffer2 == \"\") {\n",
        "\t\t\t\t/* this will avoid the error that happens when\n",
        "\t\t\t\t * the delimiter is at the end of the string */\n",
        "\t\t\t\tstrBuffer2 = strDelimiter;\n",
        "\t\t\t} else vecTokens.push_back(strDelimiter);\n",
        "\t\t} else if (blnIncludeDelim == false) {\n",
        "\t\t\tif (strBuffer2 == \"\") {\n",
        "\t\t\t\t/* ensures weird activity(blank elements, \n",
        "\t\t\t\t * infinite loop) won't happen when delimiters\n",
        "\t\t\t\t * are added to the front or back fo the string \n",
        "\t\t\t\t * and not the middle. */\n",
        "\t\t\t\tintPrevDelimPos = intNextDelimPos + strDelimiter.length();\n",
        " \t\t\t\tif(intPrevDelimPos == strBuffer.length()) break;\n",
        "\t\t\t\tcontinue;\n",
        "\t\t\t}\n",
        "\t\t}\n",
        "\n",
        "\t\t// add token to vector\n",
        "\t\tvecTokens.push_back(strBuffer2);\n",
        "\n",
        "\t\t// set variable for next loop\n",
        "\t\tintPrevDelimPos = intNextDelimPos + strDelimiter.length();\n",
        "\n",
        "\t\t// end loop if all tokens have been found already\n",
        "\t\tif (intNextDelimPos == string::npos) break;\n",
        "\t\telse if(intPrevDelimPos == strBuffer.length()) break;\n",
        "\t}\n",
        "}"
      ],
      "metadata": {
        "id": "80oUWvcQ9NmT"
      },
      "execution_count": null,
      "outputs": []
    },
    {
      "cell_type": "markdown",
      "source": [
        "**References**"
      ],
      "metadata": {
        "id": "MgBmZkOM-K1q"
      }
    },
    {
      "cell_type": "markdown",
      "source": [
        "www.techonthenet.com. (n.d.). C Language: strtok function (Search String for Token). https://www.techonthenet.com/c_language/standard_library_functions/string_h/strtok.php\n",
        "\n",
        "C String Tokenizer. (n.d.). https://www.roseindia.net/c-tutorials/c-string-tokenizer.shtml"
      ],
      "metadata": {
        "id": "hdkLcOaX-VTA"
      }
    },
    {
      "cell_type": "markdown",
      "source": [],
      "metadata": {
        "id": "l0QN1Hly85we"
      }
    }
  ]
}