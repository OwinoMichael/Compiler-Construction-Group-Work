{
  "nbformat": 4,
  "nbformat_minor": 0,
  "metadata": {
    "colab": {
      "provenance": [],
      "authorship_tag": "ABX9TyM2fJf5lPj7ePwWkqCXntG5",
      "include_colab_link": true
    },
    "kernelspec": {
      "name": "python3",
      "display_name": "Python 3"
    },
    "language_info": {
      "name": "python"
    }
  },
  "cells": [
    {
      "cell_type": "markdown",
      "metadata": {
        "id": "view-in-github",
        "colab_type": "text"
      },
      "source": [
        "<a href=\"https://colab.research.google.com/github/OwinoMichael/Compiler-Construction-Group-Work/blob/main/C_LabActivityFour.ipynb\" target=\"_parent\"><img src=\"https://colab.research.google.com/assets/colab-badge.svg\" alt=\"Open In Colab\"/></a>"
      ]
    },
    {
      "cell_type": "markdown",
      "source": [
        "## **LAB ACTIVITY FOUR**"
      ],
      "metadata": {
        "id": "QdxsEpUgaPCN"
      }
    },
    {
      "cell_type": "markdown",
      "source": [
        "COMPILER CONSTRUCTION GROUP MEMBERS\n",
        "\n",
        "1. 106731-Raphael Oluoch\n",
        "2. 100701-Kelong Zacharia\n",
        "3. 120921-Owino Michael\n",
        "4. 122287-Oduor Michael Owen\n"
      ],
      "metadata": {
        "id": "oeVYiVD2Z6eo"
      }
    },
    {
      "cell_type": "markdown",
      "source": [
        "## **1. Using an example or illustration, explain what is predictive parsing?**"
      ],
      "metadata": {
        "id": "rNLqw2Xka9x4"
      }
    },
    {
      "cell_type": "markdown",
      "source": [
        "A Predictive parser is a recursive descent parser with no backtracking or backup. It is a top-down parser that does not require backtracking.\n",
        "\n",
        "The choice of the rule to be expanded is made upon the next terminal symbol. \n",
        "To accomplish its tasks, the predictive parser uses a look-ahead pointer, which points to the next input symbols.\n",
        "\n",
        "To make the parser back-tracking free, the predictive parser puts some constraints on the grammar and accepts only a class of grammar known as LL(k) grammar.\n",
        "\n",
        "![Predictive Parser.jpg](data:image/jpeg;base64,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)\n",
        "\n",
        "\n",
        "Predictive parser consists of following components:\n",
        "\n",
        "1. Input Buffer - It consists toindicatedendofinput. \n",
        "\n",
        "2. Stack - Itconsist to indicate end of stack.\n",
        "\n",
        "3. Driver Routine - It is a function that drives the Parser.\n",
        "\n",
        "4. Parser Table - It determines the actions to be carried out by the parser\n",
        "\n",
        "Predictive parsing uses a stack and a parsing table to parse the input and generate a parse tree.\n",
        "\n",
        "Both the stack and the input contains an end symbol $to denote that the stack is empty and the input is consumed.\n",
        "\n",
        "The goal of predictive parsing is to construct a top-down parser that never backtracks. To do so, we must transform a grammar in two ways:\n",
        "\n",
        "*   Perform left factoring.\n",
        "*   eliminate left recursion\n",
        "\n",
        "Steps for designing Predictive Parser:\n",
        "\n",
        "1. Make the grammar suitable for top-down parser. By performing the elimination of left recursion. And by performing left factoring.\n",
        "\n",
        "2. Find the FIRST and FOLLOW of the variables.\n",
        "\n",
        "3. Design predictive parser table.\n",
        "\n",
        "4. Write predictive parsing algorithm"
      ],
      "metadata": {
        "id": "4u4E-JVzbSIO"
      }
    },
    {
      "cell_type": "markdown",
      "source": [
        "## **2. a. What is LL (1) parsing?**"
      ],
      "metadata": {
        "id": "eRVTGqgCeF21"
      }
    },
    {
      "cell_type": "markdown",
      "source": [
        "LL(1) Parsing: Here the 1st L represents that the scanning of the Input will be done from Left to Right manner and the second L shows that in this parsing technique we are going to use Left most Derivation Tree. And finally, the 1 represents the number of look-ahead, which means how many symbols are you going to see when you want to make a decision.\n",
        "\n",
        "LL(1) parsers can ONLY parse LL(1) languages.\n",
        "\n",
        "- No backtracking is involved, unlike recursive-descent parser. If your program contains N-words, then the complexity of the parser in the worst case is O(N).\n",
        "- It is very simple and easier to implement compared to Bottom-Up parsers."
      ],
      "metadata": {
        "id": "-HZEsthWeWLy"
      }
    },
    {
      "cell_type": "markdown",
      "source": [
        "## **2. b. Why do we get the First () and Follow () i.e. what do these two functions Really Represent?**"
      ],
      "metadata": {
        "id": "zzrR7kTae2d8"
      }
    },
    {
      "cell_type": "markdown",
      "source": [
        "**FIRST** is a function on each non-terminal that tells us which terminals can appear as the first part of one of these non-terminals. Epsilon may also be included in this FIRST function. What this means is that the parser is going to invoke some of these productions in the grammar. We need to know which one to pick when we see a particular token in the input stream.\n",
        "\n",
        "\n",
        "\n",
        "FOLLOW shows the terminals that can come after a derived non-terminal. **Note**, this does not mean the last terminal derived from a non-terminal. It's the set of terminals that can come after it. We define FOLLOW for all the non-terminals in the grammar.\n",
        "\n",
        "Benefit of FIRST ( ) and FOLLOW ( )\n",
        "\n",
        "It can be used to prove the LL (K) characteristic of grammar.\n",
        "\n",
        "*   It can be used to promote in the construction of predictive parsing tables.\n",
        "*   It provides selection information for recursive descent parsers.\n",
        "\n"
      ],
      "metadata": {
        "id": "3dggtfoGfaGH"
      }
    },
    {
      "cell_type": "markdown",
      "source": [
        "## **3. Are there any unique attributes associated with Top-Down parsing?**"
      ],
      "metadata": {
        "id": "ejY6EXHKiF1L"
      }
    },
    {
      "cell_type": "markdown",
      "source": [
        "Top-down parsing attempts to parse strings by systematically extending the parse tree from the root using the grammar's production rules all the way to the leaves of the tree to match the classified string returned by the scanner.\n",
        "\n",
        "\n",
        "\n",
        "Another attribute is the challenges that it faces. Top-down parsing faces the problem of the need to backtrack. In the process of derivation, the parser needs to pick a suitable production rule to extend the parse tree. For a grammar that is not backtrack-free, the parser may pick the wrong rule resulting in the derivation of a string not matching what was returned by the scanner, hence the parser needs to backtrack and pick another rule and re-attempt derivation.  This problem is solved through predictive parsing."
      ],
      "metadata": {
        "id": "gZuM6XvdiOX4"
      }
    },
    {
      "cell_type": "markdown",
      "source": [
        "## **REFERENCES**"
      ],
      "metadata": {
        "id": "VWJA70UQpSDK"
      }
    },
    {
      "cell_type": "markdown",
      "source": [
        "What is a Predictive Parser? (n.d.). Retrieved from www.tutorialspoint.com website: https://www.tutorialspoint.com/what-is-a-predictive-parser\n",
        "\n",
        "‌Predictive Parser in Compiler Design. (2021, March 15). GeeksforGeeks. https://www.geeksforgeeks.org/predictive-parser-in-compiler-design/\n",
        "\n",
        "‌Quora. (2019). What is the benefit of using an LL1 parser? [online] Available at: https://www.quora.com/What-is-the-benefit-of-using-an-LL1-parser?share=1 [Accessed 18 Oct. 2022].\n",
        "\n",
        "‌andrewbegel.com. (n.d.). LL(1) Parsing. [online] Available at: https://andrewbegel.com/cs164/ll1.html [Accessed 18 Oct. 2022].\n",
        "\n",
        "‌Computer Science Stack Exchange. (n.d.). parsers - How to generate LL(1) parse table. [online] Available at: https://cs.stackexchange.com/questions/112379/how-to-generate-ll1-parse-table [Accessed 18 Oct. 2022].\n",
        "\n",
        "‌\n",
        "\n",
        "‌"
      ],
      "metadata": {
        "id": "vL1JLToUpVh5"
      }
    }
  ]
}