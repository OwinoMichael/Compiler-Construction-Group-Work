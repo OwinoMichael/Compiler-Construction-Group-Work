{
  "nbformat": 4,
  "nbformat_minor": 0,
  "metadata": {
    "colab": {
      "provenance": [],
      "authorship_tag": "ABX9TyPuvD8wAAMSToz1sAmWEoS0",
      "include_colab_link": true
    },
    "kernelspec": {
      "name": "python3",
      "display_name": "Python 3"
    },
    "language_info": {
      "name": "python"
    }
  },
  "cells": [
    {
      "cell_type": "markdown",
      "metadata": {
        "id": "view-in-github",
        "colab_type": "text"
      },
      "source": [
        "<a href=\"https://colab.research.google.com/github/OwinoMichael/Compiler-Construction-Group-Work/blob/main/C_LabActivity_Seven.ipynb\" target=\"_parent\"><img src=\"https://colab.research.google.com/assets/colab-badge.svg\" alt=\"Open In Colab\"/></a>"
      ]
    },
    {
      "cell_type": "code",
      "execution_count": null,
      "metadata": {
        "id": "q0QfYpKqBD68"
      },
      "outputs": [],
      "source": []
    },
    {
      "cell_type": "markdown",
      "source": [
        "## **LAB ACTIVITY SEVEN**"
      ],
      "metadata": {
        "id": "zHcIfdSnBSox"
      }
    },
    {
      "cell_type": "markdown",
      "source": [
        "**COMPILER CONSTRUCTION GROUP MEMBERS**\n",
        "\n",
        "106731-Raphael Oluoch\n",
        "\n",
        "100701-Kelong Zacharia\n",
        "\n",
        "120921-Owino Michael\n",
        "\n",
        "122287-Oduor Michael Owen"
      ],
      "metadata": {
        "id": "sB37qS19BeWb"
      }
    },
    {
      "cell_type": "markdown",
      "source": [
        "## **1. Write the three address code (TAC) of the following:**\n"
      ],
      "metadata": {
        "id": "mJc-q0TyXImF"
      }
    },
    {
      "cell_type": "markdown",
      "source": [
        "## **a. Any if-statment of your choice**\n"
      ],
      "metadata": {
        "id": "CFApUjREXiCt"
      }
    },
    {
      "cell_type": "code",
      "source": [
        "  if A < B and C < D \n",
        "   then t = 1 else t = 0 "
      ],
      "metadata": {
        "id": "YYg5C4weDB84"
      },
      "execution_count": null,
      "outputs": []
    },
    {
      "cell_type": "markdown",
      "source": [
        "if ( Condition is true) go to L1\n",
        "\n",
        "TAC for else go to L2\n",
        "\n",
        "L1 TAC for if\n",
        "\n",
        "L2:"
      ],
      "metadata": {
        "id": "11N4HYnwDSDw"
      }
    },
    {
      "cell_type": "markdown",
      "source": [
        "**SOLUTION**\n",
        "\n",
        "(1) If (A < B ) goto (3)\n",
        "\n",
        "(2) goto 4\n",
        "\n",
        "(3) If (A < B ) goto (6)\n",
        "\n",
        "(4) T1 = 0\n",
        "\n",
        "(5) goto (7)\n",
        "\n",
        "(6) T1 = 1\n",
        "\n",
        "(7)"
      ],
      "metadata": {
        "id": "Ei--0iBODzK3"
      }
    },
    {
      "cell_type": "markdown",
      "source": [
        "# **b. Any for-loop of your choice**"
      ],
      "metadata": {
        "id": "yD23kJk6XySr"
      }
    },
    {
      "cell_type": "code",
      "source": [
        "for(i=1;i<=50;i++)\n",
        "{\n",
        "    b[j] = y*7;\n",
        "}"
      ],
      "metadata": {
        "id": "MX6MrMNPGM_F"
      },
      "execution_count": null,
      "outputs": []
    },
    {
      "cell_type": "markdown",
      "source": [
        "**SOLUTION**\n",
        "\n",
        "i =1\n",
        "\n",
        "L:\n",
        "\n",
        "t1 = y*7\n",
        "\n",
        "t2= &b\n",
        "\n",
        "t3 = sizeof(int)\n",
        "\n",
        "t4=t3*i\n",
        "\n",
        "t5=t2+t4\n",
        "\n",
        "t5=t1\n",
        "\n",
        "i=i+1\n",
        "\n",
        "if i<=50 goto L"
      ],
      "metadata": {
        "id": "aZ9N_sH8Fzku"
      }
    },
    {
      "cell_type": "markdown",
      "source": [
        "# **c. Any while-loop of your choice**"
      ],
      "metadata": {
        "id": "n1uLUNblX7pD"
      }
    },
    {
      "cell_type": "code",
      "source": [
        "do \n",
        " {\n",
        "     i = i + 1\n",
        " }while ( a[i] < x )"
      ],
      "metadata": {
        "id": "97Jix5YFGz0N"
      },
      "execution_count": null,
      "outputs": []
    },
    {
      "cell_type": "markdown",
      "source": [
        "**SOLUTION**\n",
        "\n",
        "t1 = i + 1\n",
        "\n",
        "i = t1\n",
        "\n",
        "t2 = i * 4\n",
        "\n",
        "t3 = a[t2]\n",
        "\n",
        "if t3 < x goto L"
      ],
      "metadata": {
        "id": "C1GppZ2OHCOu"
      }
    },
    {
      "cell_type": "markdown",
      "source": [
        "## **2. Write the triple implementation of one of the TAC's in question 1 above**"
      ],
      "metadata": {
        "id": "nzUlvkIYYMT8"
      }
    },
    {
      "cell_type": "markdown",
      "source": [
        "# Tripple implementation for the question 1. (c) While-loop"
      ],
      "metadata": {
        "id": "xipfsT-8QHr4"
      }
    },
    {
      "cell_type": "markdown",
      "source": [
        "![triples.jpg](data:image/jpeg;base64,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)"
      ],
      "metadata": {
        "id": "THNX6jStPezN"
      }
    }
  ]
}